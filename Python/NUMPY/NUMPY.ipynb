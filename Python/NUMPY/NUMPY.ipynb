{
 "cells": [
  {
   "cell_type": "code",
   "execution_count": 1,
   "id": "b1e4afea-bcd6-4c33-943e-4eccb73f26d0",
   "metadata": {},
   "outputs": [],
   "source": [
    "import numpy as np\n",
    "import pandas as pd"
   ]
  },
  {
   "cell_type": "code",
   "execution_count": 2,
   "id": "f3afc6df-a8fa-4134-99a4-2456ef9abaad",
   "metadata": {},
   "outputs": [
    {
     "name": "stdout",
     "output_type": "stream",
     "text": [
      "[1, 2, 3, 4, 5, 6, 7, 8, 9, 10]\n"
     ]
    }
   ],
   "source": [
    "data = [1,2,3,4,5,6,7,8,9,10]\n",
    "print(data)"
   ]
  },
  {
   "cell_type": "code",
   "execution_count": 3,
   "id": "d4ebebe8-4cbc-4918-809b-0565b8377315",
   "metadata": {},
   "outputs": [
    {
     "name": "stdout",
     "output_type": "stream",
     "text": [
      "Mean :  5.5\n",
      "Median :  5.5\n",
      "Percentile 25 :  3.25\n",
      "Percentile 50 :  5.5\n",
      "Percentile 75 :  7.75\n",
      "Variance :  8.25\n",
      "Standard Deviation :  2.8722813232690143\n"
     ]
    }
   ],
   "source": [
    "print(\"Mean : \",np.mean(data))\n",
    "print(\"Median : \",np.median(data))\n",
    "print(\"Percentile 25 : \",np.percentile(data,25))\n",
    "print(\"Percentile 50 : \",np.percentile(data,50))\n",
    "print(\"Percentile 75 : \",np.percentile(data,75))\n",
    "print(\"Variance : \",np.var(data))\n",
    "print(\"Standard Deviation : \",np.std(data))"
   ]
  },
  {
   "cell_type": "code",
   "execution_count": 4,
   "id": "76d68029-e79f-44d7-84aa-dd6507b5b218",
   "metadata": {},
   "outputs": [
    {
     "name": "stdout",
     "output_type": "stream",
     "text": [
      "[[[0. 0. 0. 0.]\n",
      "  [0. 0. 0. 0.]\n",
      "  [0. 0. 0. 0.]]\n",
      "\n",
      " [[0. 0. 0. 0.]\n",
      "  [0. 0. 0. 0.]\n",
      "  [0. 0. 0. 0.]]]\n",
      "float64\n",
      "[[[0 0 0 0]\n",
      "  [0 0 0 0]\n",
      "  [0 0 0 0]]\n",
      "\n",
      " [[0 0 0 0]\n",
      "  [0 0 0 0]\n",
      "  [0 0 0 0]]]\n",
      "int32\n",
      "[[1. 1. 1.]\n",
      " [1. 1. 1.]]\n",
      "float64\n"
     ]
    }
   ],
   "source": [
    "a=np.zeros((2,3,4))\n",
    "b=np.ones((2,3))\n",
    "\n",
    "print(a)\n",
    "print(a.dtype)\n",
    "a=a.astype('int32')\n",
    "print(a)\n",
    "print(a.dtype)\n",
    "\n",
    "print(b)\n",
    "print(b.dtype)"
   ]
  },
  {
   "cell_type": "code",
   "execution_count": 7,
   "id": "833ae41d-367e-4da2-9c0c-39b345591985",
   "metadata": {},
   "outputs": [
    {
     "name": "stdout",
     "output_type": "stream",
     "text": [
      "[[[6 6 6 6]\n",
      "  [6 6 6 6]\n",
      "  [6 6 6 6]]\n",
      "\n",
      " [[6 6 6 6]\n",
      "  [6 6 6 6]\n",
      "  [6 6 6 6]]]\n",
      "[[7. 7. 7.]\n",
      " [7. 7. 7.]]\n"
     ]
    }
   ],
   "source": [
    "c=np.full(a.shape,6)\n",
    "print(c)\n",
    "d=np.full_like(b,7)\n",
    "print(d)"
   ]
  },
  {
   "cell_type": "code",
   "execution_count": 15,
   "id": "f45b8730-22c2-4d75-bbb7-88ddf835d7ae",
   "metadata": {},
   "outputs": [
    {
     "name": "stdout",
     "output_type": "stream",
     "text": [
      "[[1. 0. 0.]\n",
      " [0. 1. 0.]\n",
      " [0. 0. 1.]]\n",
      "\n",
      " [[1. 1. 1.]\n",
      " [1. 1. 1.]\n",
      " [1. 1. 1.]]\n",
      "\n",
      " [[2. 1. 1.]\n",
      " [1. 2. 1.]\n",
      " [1. 1. 2.]]\n",
      "\n",
      " [[ 0. -1. -1.]\n",
      " [-1.  0. -1.]\n",
      " [-1. -1.  0.]]\n",
      "\n",
      " [[1. 0. 0.]\n",
      " [0. 1. 0.]\n",
      " [0. 0. 1.]] \n",
      "\n"
     ]
    }
   ],
   "source": [
    "a1=np.identity(3)\n",
    "print(a1)\n",
    "a2=np.ones((3,3),dtype=a1.dtype)\n",
    "print(\"\\n\",a2)\n",
    "print(\"\\n\",a1+a2)\n",
    "print(\"\\n\",a1-a2)\n",
    "print(\"\\n\",a1*a2,\"\\n\")"
   ]
  },
  {
   "cell_type": "code",
   "execution_count": null,
   "id": "ea056bd3-0723-40fa-8f8f-799fe058fb0d",
   "metadata": {},
   "outputs": [],
   "source": []
  },
  {
   "cell_type": "code",
   "execution_count": null,
   "id": "17c57452-a808-4c55-8904-66bf587b26f7",
   "metadata": {},
   "outputs": [],
   "source": []
  },
  {
   "cell_type": "code",
   "execution_count": null,
   "id": "3c75ef82-edb1-4c2d-8ca7-89695e32d2b3",
   "metadata": {},
   "outputs": [],
   "source": []
  },
  {
   "cell_type": "code",
   "execution_count": null,
   "id": "e6a2341a-cec9-4689-a4c9-018b5dccbb2a",
   "metadata": {},
   "outputs": [],
   "source": []
  },
  {
   "cell_type": "code",
   "execution_count": null,
   "id": "7ceaf1b7-d8d9-41f2-ac78-c9518d493815",
   "metadata": {},
   "outputs": [],
   "source": []
  },
  {
   "cell_type": "code",
   "execution_count": null,
   "id": "ff098a4e-51dd-4717-bb1d-115db256387f",
   "metadata": {},
   "outputs": [],
   "source": []
  },
  {
   "cell_type": "code",
   "execution_count": null,
   "id": "fbd306a6-db59-4937-9a3d-00cd7de93d46",
   "metadata": {},
   "outputs": [],
   "source": []
  }
 ],
 "metadata": {
  "kernelspec": {
   "display_name": "Python 3 (ipykernel)",
   "language": "python",
   "name": "python3"
  },
  "language_info": {
   "codemirror_mode": {
    "name": "ipython",
    "version": 3
   },
   "file_extension": ".py",
   "mimetype": "text/x-python",
   "name": "python",
   "nbconvert_exporter": "python",
   "pygments_lexer": "ipython3",
   "version": "3.10.4"
  },
  "toc-autonumbering": true,
  "toc-showcode": true,
  "toc-showmarkdowntxt": true
 },
 "nbformat": 4,
 "nbformat_minor": 5
}
