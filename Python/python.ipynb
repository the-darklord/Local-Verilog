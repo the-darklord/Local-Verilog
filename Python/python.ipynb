{
 "cells": [
  {
   "cell_type": "code",
   "execution_count": 42,
   "id": "b1e4afea-bcd6-4c33-943e-4eccb73f26d0",
   "metadata": {},
   "outputs": [],
   "source": [
    "import numpy as np\n",
    "import pandas as pd\n",
    "import matplotlib.pyplot as plot\n",
    "import sys"
   ]
  },
  {
   "cell_type": "code",
   "execution_count": 2,
   "id": "f3afc6df-a8fa-4134-99a4-2456ef9abaad",
   "metadata": {},
   "outputs": [
    {
     "name": "stdout",
     "output_type": "stream",
     "text": [
      "[1, 2, 3, 4, 5, 6, 7, 8, 9, 10]\n"
     ]
    }
   ],
   "source": [
    "data = [1,2,3,4,5,6,7,8,9,10]\n",
    "print(data)"
   ]
  },
  {
   "cell_type": "code",
   "execution_count": 3,
   "id": "d4ebebe8-4cbc-4918-809b-0565b8377315",
   "metadata": {},
   "outputs": [
    {
     "name": "stdout",
     "output_type": "stream",
     "text": [
      "Mean :  5.5\n",
      "Median :  5.5\n",
      "Percentile 25 :  3.25\n",
      "Percentile 50 :  5.5\n",
      "Percentile 75 :  7.75\n",
      "Variance :  8.25\n",
      "Standard Deviation :  2.8722813232690143\n"
     ]
    }
   ],
   "source": [
    "print(\"Mean : \",np.mean(data))\n",
    "print(\"Median : \",np.median(data))\n",
    "print(\"Percentile 25 : \",np.percentile(data,25))\n",
    "print(\"Percentile 50 : \",np.percentile(data,50))\n",
    "print(\"Percentile 75 : \",np.percentile(data,75))\n",
    "print(\"Variance : \",np.var(data))\n",
    "print(\"Standard Deviation : \",np.std(data))"
   ]
  },
  {
   "cell_type": "code",
   "execution_count": 4,
   "id": "76d68029-e79f-44d7-84aa-dd6507b5b218",
   "metadata": {},
   "outputs": [
    {
     "name": "stdout",
     "output_type": "stream",
     "text": [
      "[[[0. 0. 0. 0.]\n",
      "  [0. 0. 0. 0.]\n",
      "  [0. 0. 0. 0.]]\n",
      "\n",
      " [[0. 0. 0. 0.]\n",
      "  [0. 0. 0. 0.]\n",
      "  [0. 0. 0. 0.]]]\n",
      "float64\n",
      "[[[0 0 0 0]\n",
      "  [0 0 0 0]\n",
      "  [0 0 0 0]]\n",
      "\n",
      " [[0 0 0 0]\n",
      "  [0 0 0 0]\n",
      "  [0 0 0 0]]]\n",
      "int32\n",
      "[[1. 1. 1.]\n",
      " [1. 1. 1.]]\n",
      "float64\n"
     ]
    }
   ],
   "source": [
    "a=np.zeros((2,3,4))\n",
    "b=np.ones((2,3))\n",
    "\n",
    "print(a)\n",
    "print(a.dtype)\n",
    "a=a.astype('int32')\n",
    "print(a)\n",
    "print(a.dtype)\n",
    "\n",
    "print(b)\n",
    "print(b.dtype)"
   ]
  },
  {
   "cell_type": "code",
   "execution_count": 5,
   "id": "833ae41d-367e-4da2-9c0c-39b345591985",
   "metadata": {},
   "outputs": [
    {
     "name": "stdout",
     "output_type": "stream",
     "text": [
      "[[[6 6 6 6]\n",
      "  [6 6 6 6]\n",
      "  [6 6 6 6]]\n",
      "\n",
      " [[6 6 6 6]\n",
      "  [6 6 6 6]\n",
      "  [6 6 6 6]]]\n",
      "[[7. 7. 7.]\n",
      " [7. 7. 7.]]\n"
     ]
    }
   ],
   "source": [
    "c=np.full(a.shape,6)\n",
    "print(c)\n",
    "d=np.full_like(b,7)\n",
    "print(d)"
   ]
  },
  {
   "cell_type": "code",
   "execution_count": 6,
   "id": "f45b8730-22c2-4d75-bbb7-88ddf835d7ae",
   "metadata": {},
   "outputs": [
    {
     "name": "stdout",
     "output_type": "stream",
     "text": [
      "[[1. 0. 0.]\n",
      " [0. 1. 0.]\n",
      " [0. 0. 1.]]\n",
      "\n",
      " [[1. 1. 1.]\n",
      " [1. 1. 1.]\n",
      " [1. 1. 1.]]\n",
      "\n",
      " [[2. 1. 1.]\n",
      " [1. 2. 1.]\n",
      " [1. 1. 2.]]\n",
      "\n",
      " [[ 0. -1. -1.]\n",
      " [-1.  0. -1.]\n",
      " [-1. -1.  0.]]\n",
      "\n",
      " [[1. 0. 0.]\n",
      " [0. 1. 0.]\n",
      " [0. 0. 1.]] \n",
      "\n"
     ]
    }
   ],
   "source": [
    "a1=np.identity(3)\n",
    "print(a1)\n",
    "a2=np.ones((3,3),dtype=a1.dtype)\n",
    "print(\"\\n\",a2)\n",
    "print(\"\\n\",a1+a2)\n",
    "print(\"\\n\",a1-a2)\n",
    "print(\"\\n\",a1*a2,\"\\n\")"
   ]
  },
  {
   "cell_type": "code",
   "execution_count": 7,
   "id": "ea056bd3-0723-40fa-8f8f-799fe058fb0d",
   "metadata": {},
   "outputs": [
    {
     "name": "stdout",
     "output_type": "stream",
     "text": [
      "Variable   Type       Data/Info\n",
      "-------------------------------\n",
      "a          ndarray    2x3x4: 24 elems, type `int32`, 96 bytes\n",
      "a1         ndarray    3x3: 9 elems, type `float64`, 72 bytes\n",
      "a2         ndarray    3x3: 9 elems, type `float64`, 72 bytes\n",
      "b          ndarray    2x3: 6 elems, type `float64`, 48 bytes\n",
      "c          ndarray    2x3x4: 24 elems, type `int64`, 192 bytes\n",
      "d          ndarray    2x3: 6 elems, type `float64`, 48 bytes\n",
      "data       list       n=10\n",
      "np         module     <module 'numpy' from '/ho<...>kages/numpy/__init__.py'>\n",
      "pd         module     <module 'pandas' from '/h<...>ages/pandas/__init__.py'>\n",
      "plot       module     <module 'matplotlib.pyplo<...>es/matplotlib/pyplot.py'>\n"
     ]
    }
   ],
   "source": [
    "%whos"
   ]
  },
  {
   "cell_type": "code",
   "execution_count": 8,
   "id": "17c57452-a808-4c55-8904-66bf587b26f7",
   "metadata": {},
   "outputs": [
    {
     "name": "stdout",
     "output_type": "stream",
     "text": [
      "Variable   Type       Data/Info\n",
      "-------------------------------\n",
      "a          ndarray    2x3x4: 24 elems, type `int32`, 96 bytes\n",
      "a1         ndarray    3x3: 9 elems, type `float64`, 72 bytes\n",
      "a2         ndarray    3x3: 9 elems, type `float64`, 72 bytes\n",
      "b          ndarray    2x3: 6 elems, type `float64`, 48 bytes\n",
      "c          ndarray    2x3x4: 24 elems, type `int64`, 192 bytes\n",
      "d          ndarray    2x3: 6 elems, type `float64`, 48 bytes\n",
      "data       list       n=10\n",
      "np         module     <module 'numpy' from '/ho<...>kages/numpy/__init__.py'>\n",
      "pd         module     <module 'pandas' from '/h<...>ages/pandas/__init__.py'>\n",
      "plot       module     <module 'matplotlib.pyplo<...>es/matplotlib/pyplot.py'>\n",
      "x          int        14\n"
     ]
    }
   ],
   "source": [
    "x=14\n",
    "%whos"
   ]
  },
  {
   "cell_type": "code",
   "execution_count": 9,
   "id": "3c75ef82-edb1-4c2d-8ca7-89695e32d2b3",
   "metadata": {},
   "outputs": [
    {
     "name": "stdout",
     "output_type": "stream",
     "text": [
      "14\n",
      "<class 'int'>\n"
     ]
    }
   ],
   "source": [
    "print(x)\n",
    "print(type(x))\n",
    "del x"
   ]
  },
  {
   "cell_type": "code",
   "execution_count": 10,
   "id": "e6a2341a-cec9-4689-a4c9-018b5dccbb2a",
   "metadata": {},
   "outputs": [
    {
     "data": {
      "text/plain": [
       "[<matplotlib.lines.Line2D at 0x7fb8ad502080>]"
      ]
     },
     "execution_count": 10,
     "metadata": {},
     "output_type": "execute_result"
    },
    {
     "data": {
      "image/png": "[encoded data removed]",
      "text/plain": [
       "<Figure size 640x480 with 1 Axes>"
      ]
     },
     "metadata": {},
     "output_type": "display_data"
    }
   ],
   "source": [
    "plot.scatter([1,2,3,4],[5,6,7,8],c=[1,6,3,8])\n",
    "plot.plot([1,3],[5,7])"
   ]
  },
  {
   "cell_type": "code",
   "execution_count": 11,
   "id": "7ceaf1b7-d8d9-41f2-ac78-c9518d493815",
   "metadata": {},
   "outputs": [
    {
     "name": "stdout",
     "output_type": "stream",
     "text": [
      "(2+4j) \n",
      " <class 'complex'>\n"
     ]
    }
   ],
   "source": [
    "c=2+4j\n",
    "print(c,\"\\n\",type(c))"
   ]
  },
  {
   "cell_type": "code",
   "execution_count": 12,
   "id": "ff098a4e-51dd-4717-bb1d-115db256387f",
   "metadata": {},
   "outputs": [
    {
     "name": "stdout",
     "output_type": "stream",
     "text": [
      "DARK LORD \n",
      " <class 'str'>\n"
     ]
    }
   ],
   "source": [
    "str=\"DARK LORD\"\n",
    "print(str,\"\\n\",type(str))"
   ]
  },
  {
   "cell_type": "code",
   "execution_count": 13,
   "id": "fbd306a6-db59-4937-9a3d-00cd7de93d46",
   "metadata": {},
   "outputs": [
    {
     "data": {
      "text/plain": [
       "3.3333333333333335"
      ]
     },
     "execution_count": 13,
     "metadata": {},
     "output_type": "execute_result"
    }
   ],
   "source": [
    "10/3"
   ]
  },
  {
   "cell_type": "code",
   "execution_count": 14,
   "id": "dc32f8a1-0cf9-4647-9365-3c437a992c73",
   "metadata": {},
   "outputs": [
    {
     "data": {
      "text/plain": [
       "3.3333333333333335"
      ]
     },
     "execution_count": 14,
     "metadata": {},
     "output_type": "execute_result"
    }
   ],
   "source": [
    "_"
   ]
  },
  {
   "cell_type": "code",
   "execution_count": 15,
   "id": "fadf19d5-d6b2-490d-acfd-6ce15f57aadb",
   "metadata": {},
   "outputs": [],
   "source": [
    "r=_"
   ]
  },
  {
   "cell_type": "code",
   "execution_count": 16,
   "id": "9f4bcce6-f43f-4f3c-a81f-ef3b7102f5ad",
   "metadata": {},
   "outputs": [
    {
     "name": "stdout",
     "output_type": "stream",
     "text": [
      "3.3333333333333335\n"
     ]
    }
   ],
   "source": [
    "print(r)"
   ]
  },
  {
   "cell_type": "code",
   "execution_count": 17,
   "id": "cd83196a-5f61-47ac-8fcc-f0f54b4290bc",
   "metadata": {},
   "outputs": [],
   "source": [
    "_=10"
   ]
  },
  {
   "cell_type": "code",
   "execution_count": 18,
   "id": "6059d3f1-638c-4f33-b0f0-f79802da4a70",
   "metadata": {},
   "outputs": [
    {
     "data": {
      "text/plain": [
       "10"
      ]
     },
     "execution_count": 18,
     "metadata": {},
     "output_type": "execute_result"
    }
   ],
   "source": [
    "_"
   ]
  },
  {
   "cell_type": "code",
   "execution_count": 19,
   "id": "23445f74-a955-4ca6-8fcb-bb45bfa3c058",
   "metadata": {},
   "outputs": [],
   "source": [
    "t=True\n",
    "f=False"
   ]
  },
  {
   "cell_type": "code",
   "execution_count": 20,
   "id": "6b02d0cd-5bfa-4105-aff1-04ea7779fe87",
   "metadata": {},
   "outputs": [
    {
     "name": "stdout",
     "output_type": "stream",
     "text": [
      "True BC\n"
     ]
    }
   ],
   "source": [
    "if(t&~f):\n",
    "    print(\"True BC\")\n",
    "else :\n",
    "    print(\"False MC\")"
   ]
  },
  {
   "cell_type": "code",
   "execution_count": 21,
   "id": "62285df3-334b-4ae3-8d6b-5be14e0c9b49",
   "metadata": {},
   "outputs": [
    {
     "name": "stdout",
     "output_type": "stream",
     "text": [
      "5.6\n",
      "6\n"
     ]
    }
   ],
   "source": [
    "print(round(5.561313545135,1))\n",
    "print(round(5.61346))"
   ]
  },
  {
   "cell_type": "code",
   "execution_count": 22,
   "id": "b9954bae-888c-4d63-b52d-12abd1a5edab",
   "metadata": {},
   "outputs": [
    {
     "name": "stdout",
     "output_type": "stream",
     "text": [
      "5\n",
      "2\n",
      "2\n"
     ]
    }
   ],
   "source": [
    "G=divmod(27,5)\n",
    "print(G[0])\n",
    "print(G[1])\n",
    "print(27%5)"
   ]
  },
  {
   "cell_type": "code",
   "execution_count": 23,
   "id": "d137391f-55e6-410e-a427-2308c51f49ec",
   "metadata": {},
   "outputs": [
    {
     "name": "stdout",
     "output_type": "stream",
     "text": [
      "True\n",
      "False\n"
     ]
    },
    {
     "data": {
      "text/plain": [
       "False"
      ]
     },
     "execution_count": 23,
     "metadata": {},
     "output_type": "execute_result"
    }
   ],
   "source": [
    "print(isinstance(2,int))\n",
    "print(isinstance(2.0,int))\n",
    "isinstance(\"jbh\",int)"
   ]
  },
  {
   "cell_type": "code",
   "execution_count": 24,
   "id": "8b2a7bbd-3763-4f82-af36-7d0b57fd7b9b",
   "metadata": {},
   "outputs": [
    {
     "name": "stdout",
     "output_type": "stream",
     "text": [
      "16\n"
     ]
    },
    {
     "data": {
      "text/plain": [
       "16"
      ]
     },
     "execution_count": 24,
     "metadata": {},
     "output_type": "execute_result"
    }
   ],
   "source": [
    "print(2**4)\n",
    "pow(2,4)"
   ]
  },
  {
   "cell_type": "code",
   "execution_count": 25,
   "id": "d5d7825a-064a-49e2-ad40-1d8383d95913",
   "metadata": {},
   "outputs": [
    {
     "name": "stdout",
     "output_type": "stream",
     "text": [
      "2\n",
      "2\n"
     ]
    }
   ],
   "source": [
    "print((2**4)%7)\n",
    "print(pow(2,4,7))"
   ]
  },
  {
   "cell_type": "code",
   "execution_count": 26,
   "id": "913df0a4-7b14-4ac7-9995-b53f10f3ef39",
   "metadata": {},
   "outputs": [
    {
     "name": "stdin",
     "output_type": "stream",
     "text": [
      "Enter a Number : \t 56\n"
     ]
    },
    {
     "name": "stdout",
     "output_type": "stream",
     "text": [
      "56\n",
      "<class 'str'>\n"
     ]
    },
    {
     "data": {
      "text/plain": [
       "int"
      ]
     },
     "execution_count": 26,
     "metadata": {},
     "output_type": "execute_result"
    }
   ],
   "source": [
    "x=input(\"Enter a Number : \\t\")\n",
    "print(x)\n",
    "print(type(x))\n",
    "x=int(x)\n",
    "type(x)"
   ]
  },
  {
   "cell_type": "code",
   "execution_count": 27,
   "id": "3dae0aaa-cd91-4d6f-8e83-6071360e7e92",
   "metadata": {},
   "outputs": [
    {
     "name": "stdin",
     "output_type": "stream",
     "text": [
      "Enter a Decimal Vale :  63.2145\n"
     ]
    },
    {
     "name": "stdout",
     "output_type": "stream",
     "text": [
      "63.2145 <class 'float'>\n"
     ]
    }
   ],
   "source": [
    "fl=float(input(\"Enter a Decimal Vale : \"))\n",
    "print(fl,type(fl))"
   ]
  },
  {
   "cell_type": "code",
   "execution_count": 28,
   "id": "6ea3f3ab-b2f9-4e0d-8105-4a6c1813ed7f",
   "metadata": {},
   "outputs": [
    {
     "data": {
      "text/plain": [
       "\u001b[0;31mSignature:\u001b[0m \u001b[0mpow\u001b[0m\u001b[0;34m(\u001b[0m\u001b[0mbase\u001b[0m\u001b[0;34m,\u001b[0m \u001b[0mexp\u001b[0m\u001b[0;34m,\u001b[0m \u001b[0mmod\u001b[0m\u001b[0;34m=\u001b[0m\u001b[0;32mNone\u001b[0m\u001b[0;34m)\u001b[0m\u001b[0;34m\u001b[0m\u001b[0;34m\u001b[0m\u001b[0m\n",
       "\u001b[0;31mDocstring:\u001b[0m\n",
       "Equivalent to base**exp with 2 arguments or base**exp % mod with 3 arguments\n",
       "\n",
       "Some types, such as ints, are able to use a more efficient algorithm when\n",
       "invoked using the three argument form.\n",
       "\u001b[0;31mType:\u001b[0m      builtin_function_or_method\n"
      ]
     },
     "metadata": {},
     "output_type": "display_data"
    }
   ],
   "source": [
    "pow?"
   ]
  },
  {
   "cell_type": "code",
   "execution_count": 29,
   "id": "ce73e386-20d9-48c2-ab03-c9992679ad2c",
   "metadata": {},
   "outputs": [
    {
     "name": "stdout",
     "output_type": "stream",
     "text": [
      "Help on built-in function pow in module builtins:\n",
      "\n",
      "pow(base, exp, mod=None)\n",
      "    Equivalent to base**exp with 2 arguments or base**exp % mod with 3 arguments\n",
      "    \n",
      "    Some types, such as ints, are able to use a more efficient algorithm when\n",
      "    invoked using the three argument form.\n",
      "\n"
     ]
    }
   ],
   "source": [
    "help(pow)"
   ]
  },
  {
   "cell_type": "code",
   "execution_count": 30,
   "id": "2655362d-fc9c-40e4-80be-1a7765544d51",
   "metadata": {},
   "outputs": [
    {
     "name": "stdout",
     "output_type": "stream",
     "text": [
      "1\n",
      "3\n",
      "5\n",
      "7\n",
      "9\n",
      "11\n",
      "13\n",
      "15\n",
      "17\n",
      "19\n",
      "0\n",
      "1\n",
      "2\n",
      "3\n",
      "4\n",
      "5\n",
      "6\n",
      "7\n",
      "8\n",
      "9\n",
      "[1, 9, 25, 49, 81, 121, 169, 225, 289, 361]\n",
      "[0, 2, 4, 6, 8, 10, 12, 14, 16, 18]\n"
     ]
    }
   ],
   "source": [
    "L=[]\n",
    "for i in range(1,20,2):\n",
    "    print(i)\n",
    "    L.append(i**2)\n",
    "j=0\n",
    "K=[]\n",
    "while j<10 :\n",
    "    print(j)\n",
    "    K.append(j*2)\n",
    "    j+=1\n",
    "print(L)\n",
    "print(K)"
   ]
  },
  {
   "cell_type": "code",
   "execution_count": 31,
   "id": "9e523887-3198-472c-863e-2e4b55c20b96",
   "metadata": {},
   "outputs": [
    {
     "name": "stdout",
     "output_type": "stream",
     "text": [
      "0\n",
      "1\n",
      "2\n",
      "3\n",
      "4\n",
      "5\n",
      "6\n"
     ]
    }
   ],
   "source": [
    "for i in range(10):\n",
    "    print(i)\n",
    "    if i==6:\n",
    "        break\n",
    "    else :\n",
    "        pass"
   ]
  },
  {
   "cell_type": "code",
   "execution_count": 32,
   "id": "38d3bd5f-11c3-47cc-9125-1bffaa99437f",
   "metadata": {},
   "outputs": [
    {
     "name": "stdout",
     "output_type": "stream",
     "text": [
      "A 10\n",
      "B -5\n",
      "C 6.32\n",
      "D ABC\n"
     ]
    }
   ],
   "source": [
    "D={\"A\":10,\"B\":-5,\"C\":6.32,\"D\":\"ABC\"}\n",
    "for i in D:\n",
    "    print(i,D[i])"
   ]
  },
  {
   "cell_type": "code",
   "execution_count": 33,
   "id": "07291360-6b69-4988-9817-94a8630409e5",
   "metadata": {},
   "outputs": [
    {
     "name": "stdout",
     "output_type": "stream",
     "text": [
      "[6, 3, 2, 1, 9, 8, -5, 4, 7, -3]\n",
      "[-5, -3, 1, 2, 3, 4, 6, 7, 8, 9]\n",
      "[9, 8, 7, 6, 4, 3, 2, 1, -3, -5]\n"
     ]
    }
   ],
   "source": [
    "T=[6,3,2,1,9,8,-5,4,7,-3]\n",
    "print(T)\n",
    "ASC=T.copy()\n",
    "DSC=T.copy()\n",
    "for i in range(len(ASC)):\n",
    "    for j in range(0,len(ASC)-i-1):\n",
    "        if ASC[j]>ASC[j+1]:\n",
    "           t=ASC[j]\n",
    "           ASC[j]=ASC[j+1]\n",
    "           ASC[j+1]=t\n",
    "        \n",
    "        if DSC[j]<DSC[j+1]:\n",
    "           t=DSC[j]\n",
    "           DSC[j]=DSC[j+1]\n",
    "           DSC[j+1]=t\n",
    "        \n",
    "print(ASC)\n",
    "print(DSC)"
   ]
  },
  {
   "cell_type": "markdown",
   "id": "412db656-e6ba-46a1-8be8-49b465890a58",
   "metadata": {},
   "source": [
    "$a=b+c$"
   ]
  },
  {
   "cell_type": "code",
   "execution_count": 34,
   "id": "faf120ac-160c-47f6-b0c1-63f4f69fa18d",
   "metadata": {},
   "outputs": [
    {
     "name": "stdin",
     "output_type": "stream",
     "text": [
      "Enter a Number :  3\n"
     ]
    },
    {
     "name": "stdout",
     "output_type": "stream",
     "text": [
      "Factorial of 3 is 720\n"
     ]
    }
   ],
   "source": [
    "def factorial(n):\n",
    "    i=n\n",
    "    fact=1\n",
    "    while i>0 :\n",
    "        fact=fact*i\n",
    "        i=i-1\n",
    "    return fact\n",
    "\n",
    "inp=int(input(\"Enter a Number : \"))\n",
    "x=factorial(inp)\n",
    "print(\"Factorial of\",inp,\"is\",factorial(x))"
   ]
  },
  {
   "cell_type": "code",
   "execution_count": 35,
   "id": "4d42866a-9082-4589-9329-58175bb7ea63",
   "metadata": {},
   "outputs": [
    {
     "name": "stdout",
     "output_type": "stream",
     "text": [
      "C1 :  1\n",
      "C2 :  2.5\n",
      "C3 :  TDL\n",
      "C1 :  8\n",
      "C2 :  PGM\n",
      "C3 :  6.2\n",
      "C1 :  1\n",
      "C2 :  2\n",
      "C3 :  3\n",
      "<class 'NoneType'>\n"
     ]
    }
   ],
   "source": [
    "def order(c1,c2,c3) :\n",
    "    print(\"C1 : \",c1)\n",
    "    print(\"C2 : \",c2)\n",
    "    print(\"C3 : \",c3)\n",
    "\n",
    "order(1,2.5,\"TDL\")\n",
    "order(c2=\"PGM\",c3=6.2,c1=8)\n",
    "print(type(order(1,2,3)))"
   ]
  },
  {
   "cell_type": "code",
   "execution_count": 36,
   "id": "865e06c1-8cdb-413d-a5c7-f873723a72a8",
   "metadata": {},
   "outputs": [
    {
     "name": "stdout",
     "output_type": "stream",
     "text": [
      "1 2.3 MIHIR\n"
     ]
    }
   ],
   "source": [
    "def retmult():\n",
    "    return 1,2.3,\"MIHIR\"\n",
    "\n",
    "x,y,z=retmult()\n",
    "print(x,y,z)"
   ]
  },
  {
   "cell_type": "code",
   "execution_count": 37,
   "id": "77818d71-ddbf-4724-affe-9b82c1b945bb",
   "metadata": {},
   "outputs": [
    {
     "name": "stdout",
     "output_type": "stream",
     "text": [
      "13.3\n"
     ]
    }
   ],
   "source": [
    "def sumofvarargs(*args):\n",
    "    s=0\n",
    "    for i in range(len(args)):\n",
    "        s += args[i]\n",
    "    return s\n",
    "\n",
    "print(sumofvarargs(2,4,2.3,5))"
   ]
  },
  {
   "cell_type": "code",
   "execution_count": 38,
   "id": "27c0bba4-7835-4970-bd1d-09c12391f94e",
   "metadata": {},
   "outputs": [
    {
     "name": "stdout",
     "output_type": "stream",
     "text": [
      "Variable Name is  A  Value is  1\n",
      "Variable Name is  B  Value is  3\n",
      "Variable Name is  C  Value is  2.3645\n",
      "Variable Name is  D  Value is  MIHIR\n"
     ]
    }
   ],
   "source": [
    "def varargsnameandvalue(**args):\n",
    "    for x in args :\n",
    "        print(\"Variable Name is \",x,\" Value is \",args[x])\n",
    "\n",
    "varargsnameandvalue(A=1,B=3,C=2.3645,D=\"MIHIR\")"
   ]
  },
  {
   "cell_type": "code",
   "execution_count": 39,
   "id": "57ec1f74-5dec-4f68-a6ee-2434f7c04ac5",
   "metadata": {},
   "outputs": [],
   "source": [
    "def refsingle(s=0):\n",
    "    print(s)"
   ]
  },
  {
   "cell_type": "code",
   "execution_count": 40,
   "id": "93098791-fb28-4b72-8d86-2c0284be06d5",
   "metadata": {},
   "outputs": [],
   "source": [
    "def reflist(L=[4,5]):\n",
    "    for i in L:\n",
    "        print(i)"
   ]
  },
  {
   "cell_type": "code",
   "execution_count": 41,
   "id": "69d026fc-34ff-4d18-81c3-e18c7484d89f",
   "metadata": {},
   "outputs": [
    {
     "name": "stdout",
     "output_type": "stream",
     "text": [
      "0\n",
      "5\n",
      "4\n",
      "5\n",
      "1\n",
      "3.14\n",
      "MIHIR\n"
     ]
    }
   ],
   "source": [
    "refsingle()\n",
    "refsingle(5)\n",
    "\n",
    "reflist()\n",
    "reflist([1,3.14,\"MIHIR\"])\n"
   ]
  },
  {
   "cell_type": "code",
   "execution_count": 44,
   "id": "46638515-462a-4590-a3a7-09ad9e55b4be",
   "metadata": {},
   "outputs": [],
   "source": [
    "sys.path.append('/Python/')"
   ]
  },
  {
   "cell_type": "code",
   "execution_count": 2,
   "id": "ac97e4ea-7154-4cfb-9076-ac3004b222be",
   "metadata": {},
   "outputs": [],
   "source": [
    "import funcs as fns"
   ]
  },
  {
   "cell_type": "code",
   "execution_count": 49,
   "id": "e54dbb14-deca-4bd2-a204-fadbec8715d7",
   "metadata": {},
   "outputs": [
    {
     "data": {
      "text/plain": [
       "\u001b[0;31mSignature:\u001b[0m \u001b[0mfns\u001b[0m\u001b[0;34m.\u001b[0m\u001b[0mcheckNumeric\u001b[0m\u001b[0;34m(\u001b[0m\u001b[0mx\u001b[0m\u001b[0;34m)\u001b[0m\u001b[0;34m\u001b[0m\u001b[0;34m\u001b[0m\u001b[0m\n",
       "\u001b[0;31mDocstring:\u001b[0m <no docstring>\n",
       "\u001b[0;31mSource:\u001b[0m   \n",
       "\u001b[0;32mdef\u001b[0m \u001b[0mcheckNumeric\u001b[0m\u001b[0;34m(\u001b[0m\u001b[0mx\u001b[0m\u001b[0;34m)\u001b[0m\u001b[0;34m:\u001b[0m\u001b[0;34m\u001b[0m\n",
       "\u001b[0;34m\u001b[0m    \u001b[0;32mif\u001b[0m\u001b[0;34m(\u001b[0m\u001b[0misinstance\u001b[0m\u001b[0;34m(\u001b[0m\u001b[0mx\u001b[0m\u001b[0;34m,\u001b[0m\u001b[0;34m(\u001b[0m\u001b[0mint\u001b[0m\u001b[0;34m,\u001b[0m\u001b[0mfloat\u001b[0m\u001b[0;34m)\u001b[0m\u001b[0;34m)\u001b[0m\u001b[0;34m)\u001b[0m\u001b[0;34m:\u001b[0m\u001b[0;34m\u001b[0m\n",
       "\u001b[0;34m\u001b[0m        \u001b[0;32mreturn\u001b[0m \u001b[0;32mTrue\u001b[0m\u001b[0;34m\u001b[0m\n",
       "\u001b[0;34m\u001b[0m    \u001b[0;32mreturn\u001b[0m \u001b[0;32mFalse\u001b[0m\u001b[0;34m\u001b[0m\u001b[0;34m\u001b[0m\u001b[0m\n",
       "\u001b[0;31mFile:\u001b[0m      /workspaces/Practice/Python/funcs.py\n",
       "\u001b[0;31mType:\u001b[0m      function\n"
      ]
     },
     "metadata": {},
     "output_type": "display_data"
    }
   ],
   "source": [
    "fns.checkNumeric??"
   ]
  },
  {
   "cell_type": "code",
   "execution_count": 53,
   "id": "7c9e55aa-cc2e-477c-aea3-760324671ce7",
   "metadata": {},
   "outputs": [
    {
     "data": {
      "text/plain": [
       "False"
      ]
     },
     "execution_count": 53,
     "metadata": {},
     "output_type": "execute_result"
    }
   ],
   "source": [
    "fns.checkNumeric(\"56.02\")"
   ]
  },
  {
   "cell_type": "code",
   "execution_count": 54,
   "id": "92e04f39-f387-4222-ade2-ba0606c9e71a",
   "metadata": {},
   "outputs": [
    {
     "data": {
      "text/plain": [
       "True"
      ]
     },
     "execution_count": 54,
     "metadata": {},
     "output_type": "execute_result"
    }
   ],
   "source": [
    "fns.checkNumeric(56)"
   ]
  },
  {
   "cell_type": "code",
   "execution_count": 55,
   "id": "8022ac3a-902b-4e56-bad2-683ef524198f",
   "metadata": {},
   "outputs": [
    {
     "data": {
      "text/plain": [
       "True"
      ]
     },
     "execution_count": 55,
     "metadata": {},
     "output_type": "execute_result"
    }
   ],
   "source": [
    "fns.checkNumeric(56.02313)"
   ]
  },
  {
   "cell_type": "code",
   "execution_count": 57,
   "id": "adaee402-7dce-42e8-8f54-6402682b7021",
   "metadata": {},
   "outputs": [
    {
     "data": {
      "text/plain": [
       "3628800"
      ]
     },
     "execution_count": 57,
     "metadata": {},
     "output_type": "execute_result"
    }
   ],
   "source": [
    "fns.fact(10)"
   ]
  },
  {
   "cell_type": "code",
   "execution_count": 3,
   "id": "6178ee6d-5312-4108-93e4-0be42775a7be",
   "metadata": {},
   "outputs": [
    {
     "data": {
      "text/plain": [
       "'RIHIM'"
      ]
     },
     "execution_count": 3,
     "metadata": {},
     "output_type": "execute_result"
    }
   ],
   "source": [
    "fns.revstr(\"MIHIR\")"
   ]
  },
  {
   "cell_type": "code",
   "execution_count": 4,
   "id": "29429cf6-0f38-48a8-aa3f-7c7894094271",
   "metadata": {},
   "outputs": [
    {
     "name": "stdout",
     "output_type": "stream",
     "text": [
      "Tom\n",
      "Marvolo\n",
      "Riddle\n",
      "Tom Marvolo Riddle\n"
     ]
    }
   ],
   "source": [
    "str1=\"Tom\"\n",
    "str2=\"Marvolo\"\n",
    "str3=\"Riddle\"\n",
    "res=str1+\" \"+str2+\" \"+str3\n",
    "print(str1)\n",
    "print(str2)\n",
    "print(str3)\n",
    "print(res)"
   ]
  },
  {
   "cell_type": "code",
   "execution_count": 5,
   "id": "1ee19c32-d208-4fe6-b880-cb677e9f7f6c",
   "metadata": {},
   "outputs": [
    {
     "name": "stdout",
     "output_type": "stream",
     "text": [
      "Random Number is 15\n"
     ]
    }
   ],
   "source": [
    "moj=15\n",
    "strr=\"Random Number is\"\n",
    "vir=strr+\" \"+str(15)\n",
    "print(vir)"
   ]
  },
  {
   "cell_type": "code",
   "execution_count": 9,
   "id": "f0e9d109-8c5d-440b-8fb2-9d34fd8312f0",
   "metadata": {},
   "outputs": [
    {
     "name": "stdout",
     "output_type": "stream",
     "text": [
      "line 1\n",
      "line 2\n",
      "line 3\n"
     ]
    }
   ],
   "source": [
    "multilinestring=\"\"\"line 1\n",
    "line 2\n",
    "line 3\"\"\"\n",
    "print(multilinestring)"
   ]
  },
  {
   "cell_type": "code",
   "execution_count": 15,
   "id": "21cfbc9a-78a0-47e9-afbc-46ccefc40bfb",
   "metadata": {},
   "outputs": [
    {
     "name": "stdout",
     "output_type": "stream",
     "text": [
      " Of  f Thr\n"
     ]
    }
   ],
   "source": [
    "a=\"Game Of Thrones\"\n",
    "print(a[4:8],a[-9:-4])"
   ]
  },
  {
   "cell_type": "code",
   "execution_count": 20,
   "id": "caf2820a-92e6-4689-bae6-80f9d79fbaf9",
   "metadata": {},
   "outputs": [
    {
     "name": "stdout",
     "output_type": "stream",
     "text": [
      "Game Of Thrones\n",
      "game of thrones\n",
      "GAME OF THRONES\n",
      "Game,Of,Thrones\n",
      "['Game', 'Of', 'Thrones']\n"
     ]
    }
   ],
   "source": [
    "b=a.strip()\n",
    "print(b)\n",
    "print(b.lower())\n",
    "print(b.upper())\n",
    "print(b.replace(\" \",\",\"))\n",
    "print(b.replace(\" \",\",\").split(\",\"))"
   ]
  },
  {
   "cell_type": "code",
   "execution_count": 21,
   "id": "919861e4-309a-422b-8614-870407e37efd",
   "metadata": {},
   "outputs": [
    {
     "data": {
      "text/plain": [
       "False"
      ]
     },
     "execution_count": 21,
     "metadata": {},
     "output_type": "execute_result"
    }
   ],
   "source": [
    "\"abc\" in \"bsanjkcsacjks\""
   ]
  },
  {
   "cell_type": "code",
   "execution_count": 22,
   "id": "b189b6e0-4a31-481c-af8a-6a5cd996c938",
   "metadata": {},
   "outputs": [
    {
     "data": {
      "text/plain": [
       "True"
      ]
     },
     "execution_count": 22,
     "metadata": {},
     "output_type": "execute_result"
    }
   ],
   "source": [
    "\"kdj\" in \"dknckdjsknjv\""
   ]
  },
  {
   "cell_type": "code",
   "execution_count": 24,
   "id": "6bc8d7b3-ae5e-44b0-95a3-dbd585f163b9",
   "metadata": {},
   "outputs": [
    {
     "name": "stdout",
     "output_type": "stream",
     "text": [
      "we are learning \"String\" here\n"
     ]
    }
   ],
   "source": [
    "print(\"we are learning \\\"String\\\" here\")"
   ]
  },
  {
   "cell_type": "code",
   "execution_count": 26,
   "id": "2900ec87-eb0f-401a-8c75-81a1ce42c2bd",
   "metadata": {},
   "outputs": [
    {
     "name": "stdout",
     "output_type": "stream",
     "text": [
      "we are learning \"String\" here\n"
     ]
    }
   ],
   "source": [
    "print('we are learning \"String\" here')"
   ]
  },
  {
   "cell_type": "code",
   "execution_count": null,
   "id": "3c9fdeee-5ab9-42dc-9723-0ba5ab4446f2",
   "metadata": {},
   "outputs": [],
   "source": []
  },
  {
   "cell_type": "code",
   "execution_count": null,
   "id": "a74ca1b6-3c86-48d1-8b89-63266584b960",
   "metadata": {},
   "outputs": [],
   "source": []
  },
  {
   "cell_type": "code",
   "execution_count": null,
   "id": "77df5a5f-b915-44a6-a84d-8aeb44ed1afa",
   "metadata": {},
   "outputs": [],
   "source": []
  },
  {
   "cell_type": "code",
   "execution_count": null,
   "id": "af188379-c1f8-4dd9-980a-78247c6b03e2",
   "metadata": {},
   "outputs": [],
   "source": []
  },
  {
   "cell_type": "code",
   "execution_count": null,
   "id": "83fa0485-3986-493c-b8a6-fff9477edd1a",
   "metadata": {},
   "outputs": [],
   "source": []
  },
  {
   "cell_type": "code",
   "execution_count": null,
   "id": "7be560dc-5b8c-405b-b45d-ecced6086f71",
   "metadata": {},
   "outputs": [],
   "source": []
  }
 ],
 "metadata": {
  "kernelspec": {
   "display_name": "Python 3 (ipykernel)",
   "language": "python",
   "name": "python3"
  },
  "language_info": {
   "codemirror_mode": {
    "name": "ipython",
    "version": 3
   },
   "file_extension": ".py",
   "mimetype": "text/x-python",
   "name": "python",
   "nbconvert_exporter": "python",
   "pygments_lexer": "ipython3",
   "version": "3.10.4"
  },
  "toc-autonumbering": true,
  "toc-showcode": true,
  "toc-showmarkdowntxt": true
 },
 "nbformat": 4,
 "nbformat_minor": 5
}
