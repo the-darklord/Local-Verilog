{
 "cells": [
  {
   "cell_type": "code",
   "execution_count": null,
   "id": "fe6bed7e-bf31-4e2f-8127-a64a7d3dfb6f",
   "metadata": {},
   "outputs": [],
   "source": [
    "#DATA STRUCTURES"
   ]
  },
  {
   "cell_type": "code",
   "execution_count": 9,
   "id": "16b73924-2984-40e2-81e0-0ca084a5b639",
   "metadata": {},
   "outputs": [],
   "source": [
    "#LIST\n",
    "L=[1,3,4.9,\"MIHIR\",3]\n",
    "#TUPLE\n",
    "T=(1,3,4.9,\"MIHIR\",3)\n",
    "#SET\n",
    "S={1,3,4.9,\"MIHIR\",3}\n",
    "#DICTIONARY\n",
    "D={23:\"MIHIR\",'B':69,6.9:88,\"ME\":\"TDL\"}"
   ]
  },
  {
   "cell_type": "code",
   "execution_count": 10,
   "id": "d0a692a0-f8dd-48eb-9bc7-412fcad71092",
   "metadata": {},
   "outputs": [
    {
     "name": "stdout",
     "output_type": "stream",
     "text": [
      "<class 'list'>\n",
      "<class 'tuple'>\n",
      "<class 'set'>\n",
      "<class 'dict'>\n"
     ]
    }
   ],
   "source": [
    "print(type(L))\n",
    "print(type(T))\n",
    "print(type(S))\n",
    "print(type(D))"
   ]
  },
  {
   "cell_type": "code",
   "execution_count": 11,
   "id": "6b0c8ef4-c569-4a56-81cf-d961258f3c7e",
   "metadata": {},
   "outputs": [
    {
     "name": "stdout",
     "output_type": "stream",
     "text": [
      "3\n",
      "4.9\n",
      "True\n",
      "False\n",
      "MIHIR\n"
     ]
    }
   ],
   "source": [
    "print(L[1])\n",
    "print(T[2])\n",
    "print(1 in S)\n",
    "print(5 in S)\n",
    "print(D[23])"
   ]
  },
  {
   "cell_type": "code",
   "execution_count": 12,
   "id": "7217780e-8188-4a44-807c-e1d5eeb6a8e2",
   "metadata": {},
   "outputs": [
    {
     "name": "stdout",
     "output_type": "stream",
     "text": [
      "[1, 3, 4.9, 'MIHIR', 3]\n",
      "(1, 3, 4.9, 'MIHIR', 3)\n",
      "{1, 3, 4.9, 'MIHIR'}\n",
      "{23: 'MIHIR', 'B': 69, 6.9: 88, 'ME': 'TDL'}\n"
     ]
    }
   ],
   "source": [
    "print(L)\n",
    "print(T)\n",
    "print(S)\n",
    "print(D)"
   ]
  },
  {
   "cell_type": "code",
   "execution_count": 14,
   "id": "2866fd31-dc24-40f6-ba56-6d4a45adad5f",
   "metadata": {},
   "outputs": [],
   "source": [
    "#List       -    Ordered     , Changeable      , Duplicates\n",
    "#Tuple      -    Ordered     , Unchangeable    , Duplicates\n",
    "#Set        -    Unordered   , Add/Removeable  , No Duplicates\n",
    "#Dictionary -    Unordered   , Changeable      , No Duplicates"
   ]
  },
  {
   "cell_type": "code",
   "execution_count": 16,
   "id": "fa1f4e91-04b3-4fea-996b-75c6707ada83",
   "metadata": {},
   "outputs": [
    {
     "name": "stdout",
     "output_type": "stream",
     "text": [
      "[3, 4.9, 'MIHIR', 3, 'how', 56, 'how', 56]\n"
     ]
    }
   ],
   "source": [
    "L += [\"how\"]\n",
    "L.append(56)\n",
    "L.remove(1)\n",
    "print(L)"
   ]
  },
  {
   "cell_type": "code",
   "execution_count": 20,
   "id": "40b39375-b093-45e2-857a-4714f62018dd",
   "metadata": {},
   "outputs": [
    {
     "name": "stdout",
     "output_type": "stream",
     "text": [
      "(1, 3, 4.9, 'MIHIR', 3, 'a', 'b', 45, 22, 360)\n"
     ]
    }
   ],
   "source": [
    "T2=('a','b',45)\n",
    "T3=T+T2\n",
    "T3=T3+(22,360)\n",
    "print(T3)"
   ]
  },
  {
   "cell_type": "code",
   "execution_count": 21,
   "id": "da6145b7-c435-406e-903e-870b68ce5a63",
   "metadata": {},
   "outputs": [
    {
     "name": "stdout",
     "output_type": "stream",
     "text": [
      "{3, 4.9, 'MIHIR', 'THEVAMPIREDIARIES', 23, 56, 'GAMEOFTHRONES'}\n"
     ]
    }
   ],
   "source": [
    "S.add(56)\n",
    "S.remove(1)\n",
    "S.update({23,\"GAMEOFTHRONES\",'THEVAMPIREDIARIES'})\n",
    "print(S)"
   ]
  },
  {
   "cell_type": "code",
   "execution_count": 22,
   "id": "a9c0e13c-5d89-4f8e-aa63-2c4ca0065e3e",
   "metadata": {},
   "outputs": [
    {
     "name": "stdout",
     "output_type": "stream",
     "text": [
      "{23: 'MIHIR', 'B': 6996, 6.9: 88, 'ME': 'TDL', 'TVD': 'KLAUS'}\n"
     ]
    }
   ],
   "source": [
    "D['TVD']=\"KLAUS\"\n",
    "D['B']=6996\n",
    "print(D)"
   ]
  },
  {
   "cell_type": "code",
   "execution_count": 23,
   "id": "5bf28803-3b74-4778-8409-5d2ccd690c4c",
   "metadata": {},
   "outputs": [
    {
     "name": "stdout",
     "output_type": "stream",
     "text": [
      "[3, 4.9, 'MIHIR', 3, 'how', 56, 'how', 56]\n",
      "[3, 4.9, 'MIHIR', 3, 'how', 56, 'how', 56]\n",
      "[69, 4.9, 'MIHIR', 3, 'how', 56, 'how', 56]\n",
      "[69, 4.9, 'MIHIR', 3, 'how', 56, 'how', 56]\n",
      "[69, 4.9, 'MIHIR', 3, 'how', 56, 'how', 56]\n",
      "[2, 4.9, 'MIHIR', 3, 'how', 56, 'how', 56]\n"
     ]
    }
   ],
   "source": [
    "L2=L\n",
    "print(L2)\n",
    "print(L)\n",
    "L2[0]=69\n",
    "print(L2)\n",
    "print(L)\n",
    "L3=L.copy()\n",
    "L3[0]=2\n",
    "print(L)\n",
    "print(L3)"
   ]
  },
  {
   "cell_type": "code",
   "execution_count": 24,
   "id": "9ad90c9b-0d87-4932-9718-9a5d0730cda0",
   "metadata": {},
   "outputs": [
    {
     "data": {
      "text/plain": [
       "[1, 4, 9, 16, 25, 36, 49, 64, 81, 100]"
      ]
     },
     "execution_count": 24,
     "metadata": {},
     "output_type": "execute_result"
    }
   ],
   "source": [
    "L4=[x**2 for x in range(1,11)]\n",
    "L4"
   ]
  },
  {
   "cell_type": "code",
   "execution_count": 26,
   "id": "c3e2270f-a3c0-4d21-ad9f-e7bbd9888f38",
   "metadata": {},
   "outputs": [
    {
     "data": {
      "text/plain": [
       "{2, 8, 14, 20}"
      ]
     },
     "execution_count": 26,
     "metadata": {},
     "output_type": "execute_result"
    }
   ],
   "source": [
    "S2={x*2 for x in range(1,11,3)}\n",
    "S2"
   ]
  },
  {
   "cell_type": "code",
   "execution_count": null,
   "id": "dc0943a4-0299-490e-8ace-f305180471af",
   "metadata": {},
   "outputs": [],
   "source": []
  },
  {
   "cell_type": "code",
   "execution_count": null,
   "id": "849bbfff-413d-4b4e-8507-dce4d3bb12de",
   "metadata": {},
   "outputs": [],
   "source": []
  },
  {
   "cell_type": "code",
   "execution_count": null,
   "id": "d8a873a9-3308-482d-9126-dc5fb2e413db",
   "metadata": {},
   "outputs": [],
   "source": []
  }
 ],
 "metadata": {
  "kernelspec": {
   "display_name": "Python 3 (ipykernel)",
   "language": "python",
   "name": "python3"
  },
  "language_info": {
   "codemirror_mode": {
    "name": "ipython",
    "version": 3
   },
   "file_extension": ".py",
   "mimetype": "text/x-python",
   "name": "python",
   "nbconvert_exporter": "python",
   "pygments_lexer": "ipython3",
   "version": "3.10.4"
  }
 },
 "nbformat": 4,
 "nbformat_minor": 5
}
