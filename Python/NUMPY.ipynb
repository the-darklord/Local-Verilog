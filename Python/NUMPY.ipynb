{
 "cells": [
  {
   "cell_type": "code",
   "execution_count": 2,
   "id": "0bd150ec-9329-4b85-8398-923c51acd080",
   "metadata": {},
   "outputs": [],
   "source": [
    "import numpy as np\n",
    "import numpy.linalg as la"
   ]
  },
  {
   "cell_type": "code",
   "execution_count": 3,
   "id": "cc468b1a-cabf-4269-96ca-121c5198aa1a",
   "metadata": {},
   "outputs": [
    {
     "name": "stdout",
     "output_type": "stream",
     "text": [
      "[1 3 5 7 9]\n",
      "[2. 4. 6. 8.]\n",
      "<class 'numpy.ndarray'>   <class 'numpy.ndarray'>\n",
      "int32   float32\n"
     ]
    }
   ],
   "source": [
    "a=np.array([1,3,5,7,9],dtype='int32')\n",
    "b=np.array((2,4,6,8),dtype='float32')\n",
    "print(a)\n",
    "print(b)\n",
    "print(type(a),\" \",type(b))\n",
    "print(a.dtype,\" \",b.dtype)"
   ]
  },
  {
   "cell_type": "code",
   "execution_count": 4,
   "id": "28c5d2d8-b421-434c-8017-8cba39004eaf",
   "metadata": {},
   "outputs": [
    {
     "name": "stdout",
     "output_type": "stream",
     "text": [
      "[1 3 5 7 9]\n",
      "[2 4 6 8]\n",
      "<class 'numpy.ndarray'>   <class 'numpy.ndarray'>\n",
      "int8   int16\n"
     ]
    }
   ],
   "source": [
    "a=a.astype('int8')\n",
    "b=b.astype('int16')\n",
    "print(a)\n",
    "print(b)\n",
    "print(type(a),\" \",type(b))\n",
    "print(a.dtype,\" \",b.dtype)"
   ]
  },
  {
   "cell_type": "code",
   "execution_count": 5,
   "id": "a3ecc4bd-c79b-4764-9c7a-40e652c3d2b6",
   "metadata": {},
   "outputs": [
    {
     "name": "stdout",
     "output_type": "stream",
     "text": [
      "2\n",
      "(2, 3)\n"
     ]
    },
    {
     "data": {
      "text/plain": [
       "3"
      ]
     },
     "execution_count": 5,
     "metadata": {},
     "output_type": "execute_result"
    }
   ],
   "source": [
    "arr2d=np.array([[1,2,3],[4,5,6]])\n",
    "print(arr2d.ndim)\n",
    "print(arr2d.shape)\n",
    "arr2d[0,2]"
   ]
  },
  {
   "cell_type": "code",
   "execution_count": 6,
   "id": "49f43f9f-6a07-4f90-893e-72eb8468e430",
   "metadata": {},
   "outputs": [
    {
     "name": "stdout",
     "output_type": "stream",
     "text": [
      "6\n",
      "48\n",
      "6\n"
     ]
    }
   ],
   "source": [
    "print(arr2d.size)\n",
    "print(arr2d.nbytes)\n",
    "n=int(arr2d.nbytes/arr2d[0,0].nbytes)\n",
    "print(n)"
   ]
  },
  {
   "cell_type": "code",
   "execution_count": 7,
   "id": "4382cdeb-1cfb-44e6-9a07-619d9b3208f5",
   "metadata": {},
   "outputs": [
    {
     "name": "stdout",
     "output_type": "stream",
     "text": [
      "[ 0  1  2  3  4  5  6  7  8  9 10 11 12 13 14 15 16 17 18 19 20 21 22 23\n",
      " 24 25 26 27 28 29 30 31 32 33 34 35 36 37 38 39 40 41 42 43 44 45 46 47\n",
      " 48 49 50 51 52 53 54 55 56 57 58 59 60 61 62 63 64 65 66 67 68 69 70 71\n",
      " 72 73 74 75 76 77 78 79 80 81 82 83 84 85 86 87 88 89 90 91 92 93 94 95\n",
      " 96 97 98 99]\n",
      "\n",
      "[20 23 26 29 32 35 38 41 44 47]\n"
     ]
    }
   ],
   "source": [
    "A=np.arange(100)\n",
    "B=np.arange(20,50,3)\n",
    "print(A)\n",
    "print()\n",
    "print(B)"
   ]
  },
  {
   "cell_type": "code",
   "execution_count": 8,
   "id": "d34de84c-16b1-4b13-a58a-e46fa9403ca6",
   "metadata": {},
   "outputs": [
    {
     "name": "stdout",
     "output_type": "stream",
     "text": [
      "[1 4 2 9 3 7 0 8 6 5]\n",
      "28\n"
     ]
    }
   ],
   "source": [
    "P=np.random.permutation(np.arange(10))\n",
    "print(P)\n",
    "x=np.random.randint(20,30)\n",
    "print(x)"
   ]
  },
  {
   "cell_type": "code",
   "execution_count": 9,
   "id": "705adfae-ee81-4c31-a9a4-6718f2fb5633",
   "metadata": {},
   "outputs": [
    {
     "name": "stdout",
     "output_type": "stream",
     "text": [
      "[0.82815284 0.05556379 0.31474899 0.79980843 0.46122384 0.91297509\n",
      " 0.89747447 0.89398667 0.05403691 0.13399533]\n",
      "[[0.8751271  0.74108492 0.81758031]\n",
      " [0.75965795 0.68250733 0.45787187]]\n"
     ]
    }
   ],
   "source": [
    "AA=np.random.rand(10)\n",
    "print(AA)\n",
    "BB=np.random.rand(2,3)\n",
    "print(BB)"
   ]
  },
  {
   "cell_type": "code",
   "execution_count": 10,
   "id": "08030439-d1d2-4d8d-9eb3-b30039558320",
   "metadata": {},
   "outputs": [
    {
     "name": "stdout",
     "output_type": "stream",
     "text": [
      "[[ 0  1  2  3  4  5  6  7  8  9]\n",
      " [10 11 12 13 14 15 16 17 18 19]\n",
      " [20 21 22 23 24 25 26 27 28 29]\n",
      " [30 31 32 33 34 35 36 37 38 39]\n",
      " [40 41 42 43 44 45 46 47 48 49]\n",
      " [50 51 52 53 54 55 56 57 58 59]\n",
      " [60 61 62 63 64 65 66 67 68 69]\n",
      " [70 71 72 73 74 75 76 77 78 79]\n",
      " [80 81 82 83 84 85 86 87 88 89]\n",
      " [90 91 92 93 94 95 96 97 98 99]]\n",
      "\n",
      "[[[ 0  1  2  3  4  5  6  7  8  9]\n",
      "  [10 11 12 13 14 15 16 17 18 19]\n",
      "  [20 21 22 23 24 25 26 27 28 29]\n",
      "  [30 31 32 33 34 35 36 37 38 39]\n",
      "  [40 41 42 43 44 45 46 47 48 49]]\n",
      "\n",
      " [[50 51 52 53 54 55 56 57 58 59]\n",
      "  [60 61 62 63 64 65 66 67 68 69]\n",
      "  [70 71 72 73 74 75 76 77 78 79]\n",
      "  [80 81 82 83 84 85 86 87 88 89]\n",
      "  [90 91 92 93 94 95 96 97 98 99]]]\n"
     ]
    }
   ],
   "source": [
    "D=np.arange(100).reshape(10,10)\n",
    "print(D)\n",
    "print()\n",
    "D=D.reshape(2,5,10)\n",
    "print(D)"
   ]
  },
  {
   "cell_type": "code",
   "execution_count": 11,
   "id": "7e48a447-a6f8-4c52-96e4-4f55e7a5bc2b",
   "metadata": {},
   "outputs": [
    {
     "data": {
      "text/plain": [
       "array([ 0,  1,  2,  3,  4,  5,  6,  7,  8,  9, 10, 11, 12, 13, 14, 15, 16,\n",
       "       17, 18, 19, 20, 21, 22, 23, 24, 25, 26, 27, 28, 29, 30, 31, 32, 33,\n",
       "       34, 35, 36, 37, 38, 39, 40, 41, 42, 43, 44, 45, 46, 47, 48, 49, 50,\n",
       "       51, 52, 53, 54, 55, 56, 57, 58, 59, 60, 61, 62, 63, 64, 65, 66, 67,\n",
       "       68, 69, 70, 71, 72, 73, 74, 75, 76, 77, 78, 79, 80, 81, 82, 83, 84,\n",
       "       85, 86, 87, 88, 89, 90, 91, 92, 93, 94, 95, 96, 97, 98, 99])"
      ]
     },
     "execution_count": 11,
     "metadata": {},
     "output_type": "execute_result"
    }
   ],
   "source": [
    "I=np.arange(100)\n",
    "I"
   ]
  },
  {
   "cell_type": "code",
   "execution_count": 12,
   "id": "dc87e9ea-8d10-421a-a939-41edf8bfc993",
   "metadata": {},
   "outputs": [
    {
     "data": {
      "text/plain": [
       "11"
      ]
     },
     "execution_count": 12,
     "metadata": {},
     "output_type": "execute_result"
    }
   ],
   "source": [
    "ind=np.argwhere(A==11)[0][0]\n",
    "ind"
   ]
  },
  {
   "cell_type": "code",
   "execution_count": 13,
   "id": "d90694f7-4dd4-4ec4-8f7f-94eefb626cb6",
   "metadata": {},
   "outputs": [
    {
     "name": "stdout",
     "output_type": "stream",
     "text": [
      "[[ 4  5  8  8  4]\n",
      " [ 8  5  3  2  6]\n",
      " [ 6  8  6  9  7]\n",
      " [ 1  3  7  0  6]\n",
      " [ 5 10  4  6  1]]\n"
     ]
    }
   ],
   "source": [
    "A = np.round(10*np.random.rand(5,5)).astype('int32')\n",
    "print(A)"
   ]
  },
  {
   "cell_type": "code",
   "execution_count": 14,
   "id": "14bd8f0f-bc7f-4f26-981f-8deb5d978724",
   "metadata": {},
   "outputs": [
    {
     "data": {
      "text/plain": [
       "array([[ 4,  8,  6,  1,  5],\n",
       "       [ 5,  5,  8,  3, 10],\n",
       "       [ 8,  3,  6,  7,  4],\n",
       "       [ 8,  2,  9,  0,  6],\n",
       "       [ 4,  6,  7,  6,  1]], dtype=int32)"
      ]
     },
     "execution_count": 14,
     "metadata": {},
     "output_type": "execute_result"
    }
   ],
   "source": [
    "A.T"
   ]
  },
  {
   "cell_type": "code",
   "execution_count": 15,
   "id": "9eb656c5-5bd8-4e43-8f53-599ff36deea8",
   "metadata": {},
   "outputs": [
    {
     "data": {
      "text/plain": [
       "array([[ 0.13643555,  0.19329921, -0.15839926, -0.09799907, -0.00874826],\n",
       "       [-0.15588646, -0.06328525,  0.05956259,  0.07445323,  0.13959981],\n",
       "       [ 0.18548162,  0.0233597 , -0.18669148,  0.06663564,  0.02494183],\n",
       "       [ 0.04932527, -0.06654258,  0.12145184, -0.0981852 , -0.05909725],\n",
       "       [-0.16119125, -0.0278269 ,  0.21442531,  0.06803164, -0.09744067]])"
      ]
     },
     "execution_count": 15,
     "metadata": {},
     "output_type": "execute_result"
    }
   ],
   "source": [
    "la.inv(A)"
   ]
  },
  {
   "cell_type": "code",
   "execution_count": 18,
   "id": "725c517e-ed1a-4bdb-b62a-89f985e3cae8",
   "metadata": {},
   "outputs": [
    {
     "name": "stdout",
     "output_type": "stream",
     "text": [
      "[[ 0  1  1  3  3]\n",
      " [ 2  4  4  4  5]\n",
      " [ 5  5  6  6  6]\n",
      " [ 6  6  7  8  8]\n",
      " [ 7  8  8  9 10]]\n",
      "[[ 0  1  1  3  3]\n",
      " [ 2  4  4  4  5]\n",
      " [ 5  5  6  6  6]\n",
      " [ 6  6  7  8  8]\n",
      " [ 7  8  8  9 10]]\n",
      "[[ 0  1  1  3  3]\n",
      " [ 2  4  4  4  5]\n",
      " [ 5  5  6  6  6]\n",
      " [ 6  6  7  8  8]\n",
      " [ 7  8  8  9 10]]\n"
     ]
    }
   ],
   "source": [
    "print(A)\n",
    "A.sort(axis=0)\n",
    "print(A)\n",
    "A.sort(axis=1)\n",
    "print(A)"
   ]
  },
  {
   "cell_type": "code",
   "execution_count": 23,
   "id": "d41ab4c4-71cb-4411-9add-70ab40743ac9",
   "metadata": {},
   "outputs": [
    {
     "data": {
      "text/plain": [
       "array([[ 1,  1,  3],\n",
       "       [ 4,  4,  5],\n",
       "       [ 5,  6,  6],\n",
       "       [ 6,  7,  8],\n",
       "       [ 8,  8, 10]], dtype=int32)"
      ]
     },
     "execution_count": 23,
     "metadata": {},
     "output_type": "execute_result"
    }
   ],
   "source": [
    "A[[1,2,4]]"
   ]
  },
  {
   "cell_type": "code",
   "execution_count": 24,
   "id": "102904ce-2d47-45ab-90bf-b39890d6ecb1",
   "metadata": {},
   "outputs": [
    {
     "data": {
      "text/plain": [
       "array([0, 1, 1, 3, 3, 2, 4, 4, 4, 5, 5, 5, 6, 6, 6, 6, 6, 7, 7],\n",
       "      dtype=int32)"
      ]
     },
     "execution_count": 24,
     "metadata": {},
     "output_type": "execute_result"
    }
   ],
   "source": [
    "A[A<8]"
   ]
  },
  {
   "cell_type": "code",
   "execution_count": 43,
   "id": "d42b7094-e95c-47d0-befb-cf48eb5d045c",
   "metadata": {},
   "outputs": [
    {
     "data": {
      "text/plain": [
       "array([5, 5, 5, 6, 6, 6, 6, 6, 7, 7], dtype=int32)"
      ]
     },
     "execution_count": 43,
     "metadata": {},
     "output_type": "execute_result"
    }
   ],
   "source": [
    "A[(A<8)&(A>4)]"
   ]
  },
  {
   "cell_type": "code",
   "execution_count": 46,
   "id": "03e0d4be-ec22-4eff-8cae-0b8dba5fc40e",
   "metadata": {},
   "outputs": [
    {
     "data": {
      "text/plain": [
       "array([[ 2,  3,  3,  5,  5],\n",
       "       [ 4,  6,  6,  6,  7],\n",
       "       [ 7,  7,  8,  8,  8],\n",
       "       [ 8,  8,  9, 10, 10],\n",
       "       [ 9, 10, 10, 11, 12]], dtype=int32)"
      ]
     },
     "execution_count": 46,
     "metadata": {},
     "output_type": "execute_result"
    }
   ],
   "source": [
    "A+=1\n",
    "A"
   ]
  },
  {
   "cell_type": "code",
   "execution_count": 51,
   "id": "022ffdd2-f3ad-47b7-9741-cd3ecd6bcb48",
   "metadata": {},
   "outputs": [
    {
     "name": "stdout",
     "output_type": "stream",
     "text": [
      "[[1. 1. 1. 0. 0.]\n",
      " [1. 1. 1. 0. 0.]]\n",
      "[[1. 1. 1.]\n",
      " [1. 1. 1.]\n",
      " [0. 0. 0.]\n",
      " [0. 0. 0.]\n",
      " [0. 0. 0.]\n",
      " [0. 0. 0.]]\n"
     ]
    }
   ],
   "source": [
    "A=np.ones((2,3))\n",
    "B=np.zeros((2,2))\n",
    "C=np.hstack((A,B))\n",
    "print(C)\n",
    "D=np.zeros((4,3))\n",
    "E=np.vstack((A,D))\n",
    "print(E)"
   ]
  },
  {
   "cell_type": "code",
   "execution_count": 52,
   "id": "46678d24-8986-44f9-b8ed-a2205bdae2cb",
   "metadata": {},
   "outputs": [
    {
     "name": "stdout",
     "output_type": "stream",
     "text": [
      "6.72 ms ± 55.3 µs per loop (mean ± std. dev. of 7 runs, 100 loops each)\n",
      "30.8 µs ± 126 ns per loop (mean ± std. dev. of 7 runs, 10,000 loops each)\n"
     ]
    }
   ],
   "source": [
    "B=np.random.rand(100000)\n",
    "%timeit sum(B)\n",
    "%timeit np.sum(B)"
   ]
  },
  {
   "cell_type": "code",
   "execution_count": null,
   "id": "4e52ba16-287f-4518-817f-a868e1e41a0f",
   "metadata": {},
   "outputs": [],
   "source": []
  },
  {
   "cell_type": "code",
   "execution_count": null,
   "id": "ca93b574-0dac-4adb-819d-3a6bd6bfb250",
   "metadata": {},
   "outputs": [],
   "source": []
  },
  {
   "cell_type": "code",
   "execution_count": null,
   "id": "abe536af-e612-4720-a858-16350abfdf90",
   "metadata": {},
   "outputs": [],
   "source": []
  },
  {
   "cell_type": "code",
   "execution_count": null,
   "id": "44ebb53d-c259-4e0c-be65-43953cb16f78",
   "metadata": {},
   "outputs": [],
   "source": []
  },
  {
   "cell_type": "code",
   "execution_count": null,
   "id": "fb798f5a-7e19-4a9c-86db-c67d66947c74",
   "metadata": {},
   "outputs": [],
   "source": []
  },
  {
   "cell_type": "code",
   "execution_count": null,
   "id": "8751a657-a8ec-4146-8b5a-694e10944bcb",
   "metadata": {},
   "outputs": [],
   "source": []
  },
  {
   "cell_type": "code",
   "execution_count": null,
   "id": "6ced74d8-b061-4c0f-abd6-b7ec72240dad",
   "metadata": {},
   "outputs": [],
   "source": []
  },
  {
   "cell_type": "code",
   "execution_count": null,
   "id": "0833bbd1-5b3b-48da-abcd-4fcb2d7a9649",
   "metadata": {},
   "outputs": [],
   "source": []
  },
  {
   "cell_type": "code",
   "execution_count": null,
   "id": "974625d0-f304-4772-a007-1578169a57f4",
   "metadata": {},
   "outputs": [],
   "source": []
  },
  {
   "cell_type": "code",
   "execution_count": null,
   "id": "439977f2-a806-4b5f-b8ce-bdaeecfc1997",
   "metadata": {},
   "outputs": [],
   "source": []
  },
  {
   "cell_type": "code",
   "execution_count": null,
   "id": "7ae7cb83-7ecb-4f20-b6e2-637b6ba9dda3",
   "metadata": {},
   "outputs": [],
   "source": []
  },
  {
   "cell_type": "code",
   "execution_count": null,
   "id": "f79d595a-7da2-4d2e-865a-eb79a9b48785",
   "metadata": {},
   "outputs": [],
   "source": []
  },
  {
   "cell_type": "code",
   "execution_count": null,
   "id": "e0d34bc1-ae3b-4044-9eb5-25b2fa5b8a0e",
   "metadata": {},
   "outputs": [],
   "source": []
  },
  {
   "cell_type": "code",
   "execution_count": null,
   "id": "9c39dd25-0b03-4ccb-8077-41b3ae56b1d7",
   "metadata": {},
   "outputs": [],
   "source": []
  },
  {
   "cell_type": "code",
   "execution_count": null,
   "id": "d5d76210-5d19-4387-8e4a-1917677e8958",
   "metadata": {},
   "outputs": [],
   "source": []
  },
  {
   "cell_type": "code",
   "execution_count": null,
   "id": "5ca75d44-4170-42cc-b2ce-5c83481fb3ee",
   "metadata": {},
   "outputs": [],
   "source": []
  },
  {
   "cell_type": "code",
   "execution_count": null,
   "id": "18fbe12a-379f-4709-913b-207a4f9bd99a",
   "metadata": {},
   "outputs": [],
   "source": []
  }
 ],
 "metadata": {
  "kernelspec": {
   "display_name": "Python 3 (ipykernel)",
   "language": "python",
   "name": "python3"
  },
  "language_info": {
   "codemirror_mode": {
    "name": "ipython",
    "version": 3
   },
   "file_extension": ".py",
   "mimetype": "text/x-python",
   "name": "python",
   "nbconvert_exporter": "python",
   "pygments_lexer": "ipython3",
   "version": "3.10.4"
  }
 },
 "nbformat": 4,
 "nbformat_minor": 5
}
